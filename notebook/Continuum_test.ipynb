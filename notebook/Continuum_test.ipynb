{
 "cells": [
  {
   "cell_type": "code",
   "execution_count": 1,
   "metadata": {},
   "outputs": [],
   "source": [
    "import numpy as np\n",
    "from pygamma.continuum import Continuum\n",
    "from pyannote.core import Annotation, Segment\n",
    "from pyannote.core import notebook\n",
    "from matplotlib import pyplot as plt\n",
    "\n",
    "# plot\n",
    "# figure, ax = plt.subplots()\n",
    "# notebook.plot_annotation(annotation, ax=ax, time=True, legend=True)"
   ]
  },
  {
   "cell_type": "code",
   "execution_count": 2,
   "metadata": {},
   "outputs": [],
   "source": [
    "continuum = Continuum()"
   ]
  },
  {
   "cell_type": "code",
   "execution_count": 3,
   "metadata": {},
   "outputs": [],
   "source": [
    "annotation = Annotation(uri='my_video_file', modality='speaker')"
   ]
  },
  {
   "cell_type": "code",
   "execution_count": 4,
   "metadata": {},
   "outputs": [],
   "source": [
    "annotation = Annotation()\n",
    "annotation[Segment(1, 5)] = 'Carol'\n",
    "annotation[Segment(6, 8)] = 'Bob'\n",
    "annotation[Segment(12, 18)] = 'Carol'\n",
    "annotation[Segment(7, 20)] = 'Alice'\n",
    "continuum['liza'] = annotation"
   ]
  },
  {
   "cell_type": "code",
   "execution_count": 5,
   "metadata": {},
   "outputs": [],
   "source": [
    "annotation = Annotation()\n",
    "annotation[Segment(1, 5)] = 'Carol'\n",
    "annotation[Segment(6, 8)] = 'Bob'\n",
    "annotation[Segment(12, 18)] = 'Carol'\n",
    "annotation[Segment(7, 20)] = 'Alice'\n",
    "annotation[Segment(22, 23)] = 'Alice'\n",
    "\n",
    "continuum['pierrot'] = annotation"
   ]
  },
  {
   "cell_type": "code",
   "execution_count": 6,
   "metadata": {},
   "outputs": [
    {
     "data": {
      "image/png": "[encoded data removed]",
      "text/plain": [
       "<pyannote.core.annotation.Annotation at 0x1198687b8>"
      ]
     },
     "execution_count": 6,
     "metadata": {},
     "output_type": "execute_result"
    }
   ],
   "source": [
    "continuum['liza']"
   ]
  },
  {
   "cell_type": "code",
   "execution_count": 7,
   "metadata": {},
   "outputs": [
    {
     "data": {
      "text/plain": [
       "4.5"
      ]
     },
     "execution_count": 7,
     "metadata": {},
     "output_type": "execute_result"
    }
   ],
   "source": [
    "continuum.avg_num_annotations_per_annotator\n"
   ]
  },
  {
   "cell_type": "code",
   "execution_count": 41,
   "metadata": {},
   "outputs": [],
   "source": [
    "num_categories =5\n",
    "cat = 0.3*np.ones((num_categories, num_categories)) - np.eye(num_categories)"
   ]
  },
  {
   "cell_type": "code",
   "execution_count": 42,
   "metadata": {},
   "outputs": [
    {
     "data": {
      "text/plain": [
       "4.5"
      ]
     },
     "execution_count": 42,
     "metadata": {},
     "output_type": "execute_result"
    }
   ],
   "source": [
    "continuum.num_units/len(continuum)"
   ]
  },
  {
   "cell_type": "code",
   "execution_count": 43,
   "metadata": {},
   "outputs": [],
   "source": [
    "unit = annotation[list(annotation.itersegments())[0]]"
   ]
  },
  {
   "cell_type": "code",
   "execution_count": 62,
   "metadata": {},
   "outputs": [
    {
     "data": {
      "image/png": "[encoded data removed]",
      "text/plain": [
       "<Figure size 432x288 with 2 Axes>"
      ]
     },
     "metadata": {
      "needs_background": "light"
     },
     "output_type": "display_data"
    }
   ],
   "source": [
    "# plt.imshow(cat)\n",
    "fig, ax = plt.subplots()\n",
    "\n",
    "categories = ['liza','pierrot','loulou','ki','lol']\n",
    "im = plt.imshow(cat, extent=[0,5,0,5])\n",
    "ax.figure.colorbar(im, ax=ax)\n",
    "# plt.colorbar(orientation=\"horizontal\")\n",
    "\n",
    "plt.xticks([el+0.5 for el in range(len(categories))], categories)\n",
    "plt.yticks([el+0.5 for el in range(len(categories))], categories)\n",
    "plt.setp(ax.get_xticklabels(), rotation=45, ha=\"right\",\n",
    "         rotation_mode=\"anchor\")\n",
    "plt.show()"
   ]
  },
  {
   "cell_type": "code",
   "execution_count": null,
   "metadata": {},
   "outputs": [],
   "source": []
  }
 ],
 "metadata": {
  "kernelspec": {
   "display_name": "Python 3",
   "language": "python",
   "name": "python3"
  },
  "language_info": {
   "codemirror_mode": {
    "name": "ipython",
    "version": 3
   },
   "file_extension": ".py",
   "mimetype": "text/x-python",
   "name": "python",
   "nbconvert_exporter": "python",
   "pygments_lexer": "ipython3",
   "version": "3.7.3"
  }
 },
 "nbformat": 4,
 "nbformat_minor": 2
}
