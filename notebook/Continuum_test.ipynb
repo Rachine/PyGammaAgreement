{
 "cells": [
  {
   "cell_type": "code",
   "execution_count": 1,
   "metadata": {},
   "outputs": [],
   "source": [
    "import numpy as np\n",
    "from pygamma.continuum import Continuum\n",
    "from pygamma.dissimilarity import Categorical_Dissimilarity, Positional_Dissimilarity, Combined_Dissimilarity\n",
    "from pygamma.alignement import Unitary_Alignement, Alignement, Best_Alignement\n",
    "\n",
    "from pyannote.core import Annotation, Segment\n",
    "from pyannote.core import notebook\n",
    "from matplotlib import pyplot as plt\n",
    "\n",
    "# plot\n",
    "# figure, ax = plt.subplots()\n",
    "# notebook.plot_annotation(annotation, ax=ax, time=True, legend=True)"
   ]
  },
  {
   "cell_type": "code",
   "execution_count": 2,
   "metadata": {},
   "outputs": [],
   "source": [
    "continuum = Continuum()"
   ]
  },
  {
   "cell_type": "code",
   "execution_count": 3,
   "metadata": {},
   "outputs": [],
   "source": [
    "annotation = Annotation(uri='my_video_file', modality='speaker')"
   ]
  },
  {
   "cell_type": "code",
   "execution_count": 4,
   "metadata": {},
   "outputs": [],
   "source": [
    "annotation = Annotation()\n",
    "annotation[Segment(1, 5)] = 'Carol'\n",
    "annotation[Segment(6, 8)] = 'Bob'\n",
    "annotation[Segment(12, 18)] = 'Carol'\n",
    "annotation[Segment(7, 20)] = 'Alice'\n",
    "continuum['liza'] = annotation"
   ]
  },
  {
   "cell_type": "code",
   "execution_count": 5,
   "metadata": {},
   "outputs": [],
   "source": [
    "annotation = Annotation()\n",
    "annotation[Segment(1, 5)] = 'Carol'\n",
    "annotation[Segment(6, 8)] = 'Bob'\n",
    "annotation[Segment(12, 18)] = 'Carol'\n",
    "annotation[Segment(7, 20)] = 'Alice'\n",
    "annotation[Segment(22, 23)] = 'Alice'\n",
    "\n",
    "continuum['pierrot'] = annotation"
   ]
  },
  {
   "cell_type": "code",
   "execution_count": 6,
   "metadata": {},
   "outputs": [
    {
     "data": {
      "image/png": "[encoded data removed]",
      "text/plain": [
       "<pyannote.core.annotation.Annotation at 0x11304cfd0>"
      ]
     },
     "execution_count": 6,
     "metadata": {},
     "output_type": "execute_result"
    }
   ],
   "source": [
    "continuum['liza']"
   ]
  },
  {
   "cell_type": "code",
   "execution_count": 7,
   "metadata": {},
   "outputs": [
    {
     "data": {
      "text/plain": [
       "4.5"
      ]
     },
     "execution_count": 7,
     "metadata": {},
     "output_type": "execute_result"
    }
   ],
   "source": [
    "continuum.avg_num_annotations_per_annotator\n"
   ]
  },
  {
   "cell_type": "code",
   "execution_count": 8,
   "metadata": {},
   "outputs": [
    {
     "data": {
      "text/plain": [
       "numpy.ndarray"
      ]
     },
     "execution_count": 8,
     "metadata": {},
     "output_type": "execute_result"
    }
   ],
   "source": [
    "num_categories =5\n",
    "cat = np.array([[0, 0.5, 0.3, 0.7], [0.5, 0., 0.6, 0.4], [0.3, 0.6, 0., 0.7],\n",
    "           [0.7, 0.4, 0.7, 0.]])\n",
    "type(cat)"
   ]
  },
  {
   "cell_type": "code",
   "execution_count": 9,
   "metadata": {},
   "outputs": [
    {
     "data": {
      "text/plain": [
       "4.5"
      ]
     },
     "execution_count": 9,
     "metadata": {},
     "output_type": "execute_result"
    }
   ],
   "source": [
    "continuum.num_units/len(continuum)"
   ]
  },
  {
   "cell_type": "code",
   "execution_count": 10,
   "metadata": {},
   "outputs": [],
   "source": [
    "unit = annotation[list(annotation.itersegments())[0]]"
   ]
  },
  {
   "cell_type": "code",
   "execution_count": 11,
   "metadata": {},
   "outputs": [
    {
     "data": {
      "image/png": "[encoded data removed]",
      "text/plain": [
       "<Figure size 432x288 with 2 Axes>"
      ]
     },
     "metadata": {
      "needs_background": "light"
     },
     "output_type": "display_data"
    }
   ],
   "source": [
    "# plt.imshow(cat)\n",
    "fig, ax = plt.subplots()\n",
    "\n",
    "categories = ['liza','pierrot','loulou','ki']\n",
    "im = plt.imshow(cat, extent=[0,4,0,4])\n",
    "ax.figure.colorbar(im, ax=ax)\n",
    "# plt.colorbar(orientation=\"horizontal\")\n",
    "\n",
    "plt.xticks([el+0.5 for el in range(len(categories))], categories)\n",
    "plt.yticks([el+0.5 for el in range(len(categories))], categories)\n",
    "plt.setp(ax.get_xticklabels(), rotation=45, ha=\"right\",\n",
    "         rotation_mode=\"anchor\")\n",
    "plt.show()"
   ]
  },
  {
   "cell_type": "code",
   "execution_count": 12,
   "metadata": {},
   "outputs": [],
   "source": [
    "cat_dis = Categorical_Dissimilarity('diarization', list_categories=categories, categorical_dissimlarity_matrix=cat)"
   ]
  },
  {
   "cell_type": "code",
   "execution_count": 13,
   "metadata": {},
   "outputs": [
    {
     "data": {
      "image/png": "[encoded data removed]",
      "text/plain": [
       "<Figure size 432x288 with 2 Axes>"
      ]
     },
     "metadata": {
      "needs_background": "light"
     },
     "output_type": "display_data"
    }
   ],
   "source": [
    "cat_dis.plot_categorical_dissimilarity_matrix()"
   ]
  },
  {
   "cell_type": "code",
   "execution_count": 14,
   "metadata": {},
   "outputs": [
    {
     "data": {
      "text/plain": [
       "0.7"
      ]
     },
     "execution_count": 14,
     "metadata": {},
     "output_type": "execute_result"
    }
   ],
   "source": [
    "cat_dis.categorical_dissimlarity_matrix[2][3]"
   ]
  },
  {
   "cell_type": "code",
   "execution_count": 15,
   "metadata": {},
   "outputs": [],
   "source": [
    "# pos_dis = Positional_Dissimilarity('diarization')\n",
    "# last_unit = unit\n",
    "# for unit in annotation.itertracks():\n",
    "#     print(unit[0], annotation[unit], pos_dis[[unit,last_unit]], pos_dis[[last_unit,unit]])"
   ]
  },
  {
   "cell_type": "code",
   "execution_count": 16,
   "metadata": {},
   "outputs": [
    {
     "data": {
      "text/plain": [
       "True"
      ]
     },
     "execution_count": 16,
     "metadata": {},
     "output_type": "execute_result"
    }
   ],
   "source": [
    "type(['loulou','loulou']) == list"
   ]
  },
  {
   "cell_type": "code",
   "execution_count": 17,
   "metadata": {},
   "outputs": [
    {
     "name": "stdout",
     "output_type": "stream",
     "text": [
      "[ 00:00:01.000 -->  00:00:05.000] [ 00:00:02.000 -->  00:00:06.000] 0.03125 Carol\n",
      "[ 00:00:01.000 -->  00:00:05.000] [ 00:00:07.000 -->  00:00:08.000] 1.62 Carol\n",
      "[ 00:00:01.000 -->  00:00:05.000] [ 00:00:07.000 -->  00:00:19.000] 0.78125 Carol\n",
      "[ 00:00:01.000 -->  00:00:05.000] [ 00:00:08.000 -->  00:00:10.000] 2.0 Carol\n",
      "[ 00:00:01.000 -->  00:00:05.000] [ 00:00:12.000 -->  00:00:18.000] 2.88 Carol\n",
      "[ 00:00:06.000 -->  00:00:08.000] [ 00:00:02.000 -->  00:00:06.000] 0.5 Bob\n",
      "[ 00:00:06.000 -->  00:00:08.000] [ 00:00:07.000 -->  00:00:08.000] 0.05555555555555555 Bob\n",
      "[ 00:00:06.000 -->  00:00:08.000] [ 00:00:07.000 -->  00:00:19.000] 0.36734693877551017 Bob\n",
      "[ 00:00:06.000 -->  00:00:08.000] [ 00:00:08.000 -->  00:00:10.000] 0.5 Bob\n",
      "[ 00:00:06.000 -->  00:00:08.000] [ 00:00:12.000 -->  00:00:18.000] 2.0 Bob\n",
      "[ 00:00:07.000 -->  00:00:20.000] [ 00:00:02.000 -->  00:00:06.000] 0.6245674740484429 Alice\n",
      "[ 00:00:07.000 -->  00:00:20.000] [ 00:00:07.000 -->  00:00:08.000] 0.36734693877551017 Alice\n",
      "[ 00:00:07.000 -->  00:00:20.000] [ 00:00:07.000 -->  00:00:19.000] 0.0008 Alice\n",
      "[ 00:00:07.000 -->  00:00:20.000] [ 00:00:08.000 -->  00:00:10.000] 0.26888888888888884 Alice\n",
      "[ 00:00:07.000 -->  00:00:20.000] [ 00:00:12.000 -->  00:00:18.000] 0.06786703601108032 Alice\n",
      "[ 00:00:12.000 -->  00:00:18.000] [ 00:00:02.000 -->  00:00:06.000] 2.4200000000000004 Carol\n",
      "[ 00:00:12.000 -->  00:00:18.000] [ 00:00:07.000 -->  00:00:08.000] 2.2959183673469385 Carol\n",
      "[ 00:00:12.000 -->  00:00:18.000] [ 00:00:07.000 -->  00:00:19.000] 0.05555555555555555 Carol\n",
      "[ 00:00:12.000 -->  00:00:18.000] [ 00:00:08.000 -->  00:00:10.000] 1.125 Carol\n",
      "[ 00:00:12.000 -->  00:00:18.000] [ 00:00:12.000 -->  00:00:18.000] 0.0 Carol\n"
     ]
    }
   ],
   "source": [
    "continuum = Continuum()\n",
    "annotation = Annotation()\n",
    "annotation[Segment(1, 5)] = 'Carol'\n",
    "annotation[Segment(6, 8)] = 'Bob'\n",
    "annotation[Segment(12, 18)] = 'Carol'\n",
    "annotation[Segment(7, 20)] = 'Alice'\n",
    "continuum['liza'] = annotation\n",
    "annotation = Annotation()\n",
    "annotation[Segment(2, 6)] = 'Carol'\n",
    "annotation[Segment(7, 8)] = 'Bob'\n",
    "annotation[Segment(12, 18)] = 'Alice'\n",
    "annotation[Segment(8, 10)] = 'Alice'\n",
    "annotation[Segment(7, 19)] = 'Jeremy'\n",
    "continuum['pierrot'] = annotation\n",
    "categories = ['Carol', 'Bob', 'Alice', 'Jeremy']\n",
    "\n",
    "pos_dis = Positional_Dissimilarity('diarization', DELTA_EMPTY=0.5)\n",
    "\n",
    "list_dis = []\n",
    "for liza_unit in continuum['liza'].itersegments():\n",
    "    for pierrot_unit in continuum['pierrot'].itersegments():\n",
    "        list_dis.append(pos_dis[[liza_unit, pierrot_unit]])\n",
    "        print(liza_unit, pierrot_unit,pos_dis[[liza_unit, pierrot_unit]], continuum['liza'][liza_unit])"
   ]
  },
  {
   "cell_type": "code",
   "execution_count": 18,
   "metadata": {},
   "outputs": [
    {
     "data": {
      "text/plain": [
       "True"
      ]
     },
     "execution_count": 18,
     "metadata": {},
     "output_type": "execute_result"
    }
   ],
   "source": [
    "list_dis == [0.03125,\n",
    " 1.62,\n",
    " 0.78125,\n",
    " 2.0,\n",
    " 2.88,\n",
    " 0.5,\n",
    " 0.05555555555555555,\n",
    " 0.36734693877551017,\n",
    " 0.5,\n",
    " 2.0,\n",
    " 0.6245674740484429,\n",
    " 0.36734693877551017,\n",
    " 0.0008,\n",
    " 0.26888888888888884,\n",
    " 0.06786703601108032,\n",
    " 2.4200000000000004,\n",
    " 2.2959183673469385,\n",
    " 0.05555555555555555,\n",
    " 1.125,\n",
    " 0.0]"
   ]
  },
  {
   "cell_type": "code",
   "execution_count": 19,
   "metadata": {},
   "outputs": [
    {
     "name": "stdout",
     "output_type": "stream",
     "text": [
      "0.03125\n",
      "1.87\n",
      "1.13125\n",
      "2.15\n",
      "3.03\n",
      "0.75\n",
      "0.05555555555555555\n",
      "0.5673469387755101\n",
      "0.8\n",
      "2.3\n",
      "0.774567474048443\n",
      "0.6673469387755102\n",
      "0.3508\n",
      "0.26888888888888884\n",
      "0.06786703601108032\n",
      "2.4200000000000004\n",
      "2.5459183673469385\n",
      "0.40555555555555556\n",
      "1.275\n",
      "0.15\n"
     ]
    }
   ],
   "source": [
    "continuum = Continuum()\n",
    "annotation = Annotation()\n",
    "annotation[Segment(1, 5)] = 'Carol'\n",
    "annotation[Segment(6, 8)] = 'Bob'\n",
    "annotation[Segment(12, 18)] = 'Carol'\n",
    "annotation[Segment(7, 20)] = 'Alice'\n",
    "continuum['liza'] = annotation\n",
    "annotation = Annotation()\n",
    "annotation[Segment(2, 6)] = 'Carol'\n",
    "annotation[Segment(7, 8)] = 'Bob'\n",
    "annotation[Segment(12, 18)] = 'Alice'\n",
    "annotation[Segment(8, 10)] = 'Alice'\n",
    "annotation[Segment(7, 19)] = 'Jeremy'\n",
    "continuum['pierrot'] = annotation\n",
    "categories = ['Carol', 'Bob', 'Alice', 'Jeremy']\n",
    "\n",
    "combi_dis = Combined_Dissimilarity(\n",
    "    'diarization',\n",
    "    list_categories=categories,\n",
    "    DELTA_EMPTY=0.5,\n",
    "    categorical_dissimlarity_matrix=cat)\n",
    "list_dis = []\n",
    "for liza_unit in continuum['liza'].itersegments():\n",
    "    for pierrot_unit in continuum['pierrot'].itersegments():\n",
    "        list_dis.append(combi_dis[[liza_unit, pierrot_unit], [\n",
    "            continuum['liza'][liza_unit], continuum['pierrot'][\n",
    "                pierrot_unit]\n",
    "        ]])\n",
    "        print(combi_dis[[liza_unit, pierrot_unit], [\n",
    "            continuum['liza'][liza_unit], continuum['pierrot'][\n",
    "                pierrot_unit]\n",
    "        ]])"
   ]
  },
  {
   "cell_type": "code",
   "execution_count": 20,
   "metadata": {},
   "outputs": [
    {
     "data": {
      "text/plain": [
       "[<Segment(1, 5)>, <Segment(6, 8)>, <Segment(7, 20)>, <Segment(12, 18)>]"
      ]
     },
     "execution_count": 20,
     "metadata": {},
     "output_type": "execute_result"
    }
   ],
   "source": [
    "list(continuum['liza'].itersegments())"
   ]
  },
  {
   "cell_type": "code",
   "execution_count": 21,
   "metadata": {},
   "outputs": [
    {
     "data": {
      "text/plain": [
       "[<Segment(2, 6)>,\n",
       " <Segment(7, 8)>,\n",
       " <Segment(7, 19)>,\n",
       " <Segment(8, 10)>,\n",
       " <Segment(12, 18)>]"
      ]
     },
     "execution_count": 21,
     "metadata": {},
     "output_type": "execute_result"
    }
   ],
   "source": [
    "list(continuum['pierrot'].itersegments())\n",
    "\n",
    "# continuum['pierrot'][1]"
   ]
  },
  {
   "cell_type": "code",
   "execution_count": 22,
   "metadata": {},
   "outputs": [],
   "source": [
    "n_tuple = (['liza',Segment(12, 18)],['pierrot',Segment(12, 18)])\n",
    "unitary_alignement= Unitary_Alignement(continuum, n_tuple, combi_dis)"
   ]
  },
  {
   "cell_type": "code",
   "execution_count": 23,
   "metadata": {},
   "outputs": [
    {
     "data": {
      "text/plain": [
       "0.15"
      ]
     },
     "execution_count": 23,
     "metadata": {},
     "output_type": "execute_result"
    }
   ],
   "source": [
    "unitary_alignement.disorder"
   ]
  },
  {
   "cell_type": "code",
   "execution_count": 24,
   "metadata": {},
   "outputs": [
    {
     "data": {
      "text/plain": [
       "[<Segment(2, 6)>,\n",
       " <Segment(7, 8)>,\n",
       " <Segment(7, 19)>,\n",
       " <Segment(8, 10)>,\n",
       " <Segment(12, 18)>]"
      ]
     },
     "execution_count": 24,
     "metadata": {},
     "output_type": "execute_result"
    }
   ],
   "source": [
    "list(annotation.itersegments())"
   ]
  },
  {
   "cell_type": "code",
   "execution_count": 25,
   "metadata": {},
   "outputs": [],
   "source": [
    "continuum = Continuum()\n",
    "annotation = Annotation()\n",
    "annotation[Segment(1, 5)] = 'Carol'\n",
    "annotation[Segment(6, 8)] = 'Bob'\n",
    "annotation[Segment(12, 18)] = 'Carol'\n",
    "annotation[Segment(7, 20)] = 'Alice'\n",
    "continuum['liza'] = annotation\n",
    "annotation = Annotation()\n",
    "annotation[Segment(2, 6)] = 'Carol'\n",
    "annotation[Segment(7, 8)] = 'Bob'\n",
    "annotation[Segment(12, 18)] = 'Alice'\n",
    "annotation[Segment(8, 10)] = 'Alice'\n",
    "annotation[Segment(7, 19)] = 'Jeremy'\n",
    "continuum['pierrot'] = annotation\n",
    "annotation = Annotation()\n",
    "\n",
    "annotation[Segment(1, 6)] = 'Carol'\n",
    "annotation[Segment(8, 10)] = 'Alice'\n",
    "annotation[Segment(7, 19)] = 'Jeremy'\n",
    "annotation[Segment(19, 20)] = 'Alice'\n",
    "\n",
    "continuum['hadrien'] = annotation\n",
    "\n",
    "categories = ['Carol', 'Bob', 'Alice', 'Jeremy']\n",
    "\n",
    "combi_dis = Combined_Dissimilarity(\n",
    "    'diarization',\n",
    "    list_categories=categories,\n",
    "    DELTA_EMPTY=0.5,\n",
    "    categorical_dissimlarity_matrix=cat)\n",
    "list_dis = []\n",
    "for liza_unit in continuum['liza'].itersegments():\n",
    "    for pierrot_unit in continuum['pierrot'].itersegments():\n",
    "        list_dis.append(combi_dis[[liza_unit, pierrot_unit], [\n",
    "            continuum['liza'][liza_unit], continuum['pierrot'][\n",
    "                pierrot_unit]\n",
    "        ]])\n",
    "#         print(combi_dis[[liza_unit, pierrot_unit], [\n",
    "#             continuum['liza'][liza_unit], continuum['pierrot'][\n",
    "#                 pierrot_unit]\n",
    "#         ]])"
   ]
  },
  {
   "cell_type": "code",
   "execution_count": 26,
   "metadata": {},
   "outputs": [
    {
     "name": "stdout",
     "output_type": "stream",
     "text": [
      "[ 00:00:01.000 -->  00:00:05.000] _ Carol\n",
      "[ 00:00:06.000 -->  00:00:08.000] _ Bob\n",
      "[ 00:00:07.000 -->  00:00:20.000] _ Alice\n",
      "[ 00:00:12.000 -->  00:00:18.000] _ Carol\n"
     ]
    }
   ],
   "source": [
    "print(continuum['liza'])"
   ]
  },
  {
   "cell_type": "code",
   "execution_count": 27,
   "metadata": {},
   "outputs": [
    {
     "name": "stdout",
     "output_type": "stream",
     "text": [
      "[ 00:00:02.000 -->  00:00:06.000] _ Carol\n",
      "[ 00:00:07.000 -->  00:00:08.000] _ Bob\n",
      "[ 00:00:07.000 -->  00:00:19.000] _ Jeremy\n",
      "[ 00:00:08.000 -->  00:00:10.000] _ Alice\n",
      "[ 00:00:12.000 -->  00:00:18.000] _ Alice\n"
     ]
    }
   ],
   "source": [
    "print(continuum['pierrot'])\n"
   ]
  },
  {
   "cell_type": "code",
   "execution_count": 28,
   "metadata": {},
   "outputs": [
    {
     "name": "stdout",
     "output_type": "stream",
     "text": [
      "[ 00:00:01.000 -->  00:00:06.000] _ Carol\n",
      "[ 00:00:07.000 -->  00:00:19.000] _ Jeremy\n",
      "[ 00:00:08.000 -->  00:00:10.000] _ Alice\n",
      "[ 00:00:19.000 -->  00:00:20.000] _ Alice\n"
     ]
    }
   ],
   "source": [
    "print(continuum['hadrien'])"
   ]
  },
  {
   "cell_type": "code",
   "execution_count": 29,
   "metadata": {},
   "outputs": [],
   "source": [
    "n_tuple = (['liza',Segment(12, 18)],['pierrot',Segment(12, 18)],['hadrien', None])\n",
    "unitary_alignement= Unitary_Alignement(continuum, n_tuple, combi_dis)"
   ]
  },
  {
   "cell_type": "code",
   "execution_count": 30,
   "metadata": {},
   "outputs": [],
   "source": [
    "set_unitary_alignements = []\n",
    "\n",
    "n_tuple = (['liza',Segment(1, 5)],['pierrot',Segment(2, 6)],['hadrien', Segment(1, 6)])\n",
    "unitary_alignement= Unitary_Alignement(continuum, n_tuple, combi_dis)\n",
    "set_unitary_alignements.append(unitary_alignement)\n",
    "\n",
    "n_tuple = (['liza',Segment(6, 8)],['pierrot',Segment(7, 8)],['hadrien', Segment(8, 10)])\n",
    "unitary_alignement= Unitary_Alignement(continuum, n_tuple, combi_dis)\n",
    "set_unitary_alignements.append(unitary_alignement)\n",
    "\n",
    "n_tuple = (['liza',Segment(7, 20)],['pierrot',Segment(7, 19)],['hadrien', Segment(7, 19)])\n",
    "unitary_alignement= Unitary_Alignement(continuum, n_tuple, combi_dis)\n",
    "set_unitary_alignements.append(unitary_alignement)\n",
    "\n",
    "n_tuple = (['liza',Segment(12, 18)],['pierrot',Segment(12, 18)],['hadrien', None])\n",
    "unitary_alignement= Unitary_Alignement(continuum, n_tuple, combi_dis)\n",
    "set_unitary_alignements.append(unitary_alignement)\n",
    "\n",
    "n_tuple = (['liza',None],['pierrot',Segment(8, 10)],['hadrien', Segment(19, 20)])\n",
    "unitary_alignement= Unitary_Alignement(continuum, n_tuple, combi_dis)\n",
    "set_unitary_alignements.append(unitary_alignement)"
   ]
  },
  {
   "cell_type": "code",
   "execution_count": 31,
   "metadata": {},
   "outputs": [],
   "source": [
    "alignement = Alignement(continuum, set_unitary_alignements, combi_dis)"
   ]
  },
  {
   "cell_type": "code",
   "execution_count": 32,
   "metadata": {},
   "outputs": [
    {
     "data": {
      "text/plain": [
       "9.683583744855968"
      ]
     },
     "execution_count": 32,
     "metadata": {},
     "output_type": "execute_result"
    }
   ],
   "source": [
    "alignement.disorder"
   ]
  },
  {
   "cell_type": "code",
   "execution_count": 33,
   "metadata": {},
   "outputs": [
    {
     "name": "stdout",
     "output_type": "stream",
     "text": [
      "[<Segment(1, 6)>, <Segment(7, 19)>, <Segment(8, 10)>, <Segment(19, 20)>]\n",
      "[<Segment(2, 6)>, <Segment(7, 8)>, <Segment(7, 19)>, <Segment(8, 10)>, <Segment(12, 18)>]\n",
      "[<Segment(1, 5)>, <Segment(6, 8)>, <Segment(7, 20)>, <Segment(12, 18)>]\n"
     ]
    }
   ],
   "source": [
    "print(list(continuum['hadrien'].itersegments()))\n",
    "\n",
    "print(list(continuum['pierrot'].itersegments()))\n",
    "print(list(continuum['liza'].itersegments()))\n",
    "\n",
    "def combinaisons_tuple_annotators(continuum):\n",
    "    if n==1:\n",
    "        return V\n",
    "    answers = []\n",
    "    for combo in combos(n-1):\n",
    "        for word in V:\n",
    "                answers.append(combo+word)\n",
    "    return answers"
   ]
  },
  {
   "cell_type": "code",
   "execution_count": 34,
   "metadata": {},
   "outputs": [
    {
     "name": "stdout",
     "output_type": "stream",
     "text": [
      "[(<Segment(2, 6)>, <Segment(1, 5)>, <Segment(1, 5)>), (<Segment(2, 6)>, <Segment(1, 5)>, <Segment(6, 8)>), (<Segment(2, 6)>, <Segment(1, 5)>, <Segment(7, 20)>), (<Segment(2, 6)>, <Segment(1, 5)>, <Segment(12, 18)>), (<Segment(2, 6)>, <Segment(6, 8)>, <Segment(1, 5)>), (<Segment(2, 6)>, <Segment(6, 8)>, <Segment(6, 8)>), (<Segment(2, 6)>, <Segment(6, 8)>, <Segment(7, 20)>), (<Segment(2, 6)>, <Segment(6, 8)>, <Segment(12, 18)>), (<Segment(2, 6)>, <Segment(7, 20)>, <Segment(1, 5)>), (<Segment(2, 6)>, <Segment(7, 20)>, <Segment(6, 8)>), (<Segment(2, 6)>, <Segment(7, 20)>, <Segment(7, 20)>), (<Segment(2, 6)>, <Segment(7, 20)>, <Segment(12, 18)>), (<Segment(2, 6)>, <Segment(12, 18)>, <Segment(1, 5)>), (<Segment(2, 6)>, <Segment(12, 18)>, <Segment(6, 8)>), (<Segment(2, 6)>, <Segment(12, 18)>, <Segment(7, 20)>), (<Segment(2, 6)>, <Segment(12, 18)>, <Segment(12, 18)>), (<Segment(7, 8)>, <Segment(1, 5)>, <Segment(1, 5)>), (<Segment(7, 8)>, <Segment(1, 5)>, <Segment(6, 8)>), (<Segment(7, 8)>, <Segment(1, 5)>, <Segment(7, 20)>), (<Segment(7, 8)>, <Segment(1, 5)>, <Segment(12, 18)>), (<Segment(7, 8)>, <Segment(6, 8)>, <Segment(1, 5)>), (<Segment(7, 8)>, <Segment(6, 8)>, <Segment(6, 8)>), (<Segment(7, 8)>, <Segment(6, 8)>, <Segment(7, 20)>), (<Segment(7, 8)>, <Segment(6, 8)>, <Segment(12, 18)>), (<Segment(7, 8)>, <Segment(7, 20)>, <Segment(1, 5)>), (<Segment(7, 8)>, <Segment(7, 20)>, <Segment(6, 8)>), (<Segment(7, 8)>, <Segment(7, 20)>, <Segment(7, 20)>), (<Segment(7, 8)>, <Segment(7, 20)>, <Segment(12, 18)>), (<Segment(7, 8)>, <Segment(12, 18)>, <Segment(1, 5)>), (<Segment(7, 8)>, <Segment(12, 18)>, <Segment(6, 8)>), (<Segment(7, 8)>, <Segment(12, 18)>, <Segment(7, 20)>), (<Segment(7, 8)>, <Segment(12, 18)>, <Segment(12, 18)>), (<Segment(7, 19)>, <Segment(1, 5)>, <Segment(1, 5)>), (<Segment(7, 19)>, <Segment(1, 5)>, <Segment(6, 8)>), (<Segment(7, 19)>, <Segment(1, 5)>, <Segment(7, 20)>), (<Segment(7, 19)>, <Segment(1, 5)>, <Segment(12, 18)>), (<Segment(7, 19)>, <Segment(6, 8)>, <Segment(1, 5)>), (<Segment(7, 19)>, <Segment(6, 8)>, <Segment(6, 8)>), (<Segment(7, 19)>, <Segment(6, 8)>, <Segment(7, 20)>), (<Segment(7, 19)>, <Segment(6, 8)>, <Segment(12, 18)>), (<Segment(7, 19)>, <Segment(7, 20)>, <Segment(1, 5)>), (<Segment(7, 19)>, <Segment(7, 20)>, <Segment(6, 8)>), (<Segment(7, 19)>, <Segment(7, 20)>, <Segment(7, 20)>), (<Segment(7, 19)>, <Segment(7, 20)>, <Segment(12, 18)>), (<Segment(7, 19)>, <Segment(12, 18)>, <Segment(1, 5)>), (<Segment(7, 19)>, <Segment(12, 18)>, <Segment(6, 8)>), (<Segment(7, 19)>, <Segment(12, 18)>, <Segment(7, 20)>), (<Segment(7, 19)>, <Segment(12, 18)>, <Segment(12, 18)>), (<Segment(8, 10)>, <Segment(1, 5)>, <Segment(1, 5)>), (<Segment(8, 10)>, <Segment(1, 5)>, <Segment(6, 8)>), (<Segment(8, 10)>, <Segment(1, 5)>, <Segment(7, 20)>), (<Segment(8, 10)>, <Segment(1, 5)>, <Segment(12, 18)>), (<Segment(8, 10)>, <Segment(6, 8)>, <Segment(1, 5)>), (<Segment(8, 10)>, <Segment(6, 8)>, <Segment(6, 8)>), (<Segment(8, 10)>, <Segment(6, 8)>, <Segment(7, 20)>), (<Segment(8, 10)>, <Segment(6, 8)>, <Segment(12, 18)>), (<Segment(8, 10)>, <Segment(7, 20)>, <Segment(1, 5)>), (<Segment(8, 10)>, <Segment(7, 20)>, <Segment(6, 8)>), (<Segment(8, 10)>, <Segment(7, 20)>, <Segment(7, 20)>), (<Segment(8, 10)>, <Segment(7, 20)>, <Segment(12, 18)>), (<Segment(8, 10)>, <Segment(12, 18)>, <Segment(1, 5)>), (<Segment(8, 10)>, <Segment(12, 18)>, <Segment(6, 8)>), (<Segment(8, 10)>, <Segment(12, 18)>, <Segment(7, 20)>), (<Segment(8, 10)>, <Segment(12, 18)>, <Segment(12, 18)>), (<Segment(12, 18)>, <Segment(1, 5)>, <Segment(1, 5)>), (<Segment(12, 18)>, <Segment(1, 5)>, <Segment(6, 8)>), (<Segment(12, 18)>, <Segment(1, 5)>, <Segment(7, 20)>), (<Segment(12, 18)>, <Segment(1, 5)>, <Segment(12, 18)>), (<Segment(12, 18)>, <Segment(6, 8)>, <Segment(1, 5)>), (<Segment(12, 18)>, <Segment(6, 8)>, <Segment(6, 8)>), (<Segment(12, 18)>, <Segment(6, 8)>, <Segment(7, 20)>), (<Segment(12, 18)>, <Segment(6, 8)>, <Segment(12, 18)>), (<Segment(12, 18)>, <Segment(7, 20)>, <Segment(1, 5)>), (<Segment(12, 18)>, <Segment(7, 20)>, <Segment(6, 8)>), (<Segment(12, 18)>, <Segment(7, 20)>, <Segment(7, 20)>), (<Segment(12, 18)>, <Segment(7, 20)>, <Segment(12, 18)>), (<Segment(12, 18)>, <Segment(12, 18)>, <Segment(1, 5)>), (<Segment(12, 18)>, <Segment(12, 18)>, <Segment(6, 8)>), (<Segment(12, 18)>, <Segment(12, 18)>, <Segment(7, 20)>), (<Segment(12, 18)>, <Segment(12, 18)>, <Segment(12, 18)>)]\n"
     ]
    }
   ],
   "source": [
    "from itertools import product\n",
    "print(list(product(list(continuum['pierrot'].itersegments()), list(continuum['liza'].itersegments()), list(continuum['liza'].itersegments()) )))"
   ]
  },
  {
   "cell_type": "code",
   "execution_count": 35,
   "metadata": {},
   "outputs": [
    {
     "name": "stdout",
     "output_type": "stream",
     "text": [
      "hadrien\n",
      "liza\n",
      "pierrot\n"
     ]
    }
   ],
   "source": [
    "set_of_possible_segments = []\n",
    "for annotator in continuum.iterannotators():\n",
    "    print(annotator)\n",
    "    set_of_possible_segments.append([[el, annotator] for el in list(continuum[annotator].itersegments())+ [None]])"
   ]
  },
  {
   "cell_type": "code",
   "execution_count": 36,
   "metadata": {},
   "outputs": [
    {
     "data": {
      "text/plain": [
       "150"
      ]
     },
     "execution_count": 36,
     "metadata": {},
     "output_type": "execute_result"
    }
   ],
   "source": [
    "len(list(product(*set_of_possible_segments)))# list(set_of_possible_segments[0])"
   ]
  },
  {
   "cell_type": "code",
   "execution_count": 37,
   "metadata": {},
   "outputs": [
    {
     "name": "stdout",
     "output_type": "stream",
     "text": [
      "optimal (x + y == 1) dual variable 0.0\n",
      "optimal (x - y >= 1) dual variable 2.0\n",
      "x - y value: 1.0\n"
     ]
    }
   ],
   "source": [
    "import cvxpy as cp\n",
    "\n",
    "# Create two scalar optimization variables.\n",
    "x = cp.Variable()\n",
    "y = cp.Variable()\n",
    "\n",
    "# Create two constraints.\n",
    "constraints = [x + y == 1,\n",
    "               x - y >= 1]\n",
    "\n",
    "# Form objective.\n",
    "obj = cp.Minimize((x - y)**2)\n",
    "\n",
    "# Form and solve problem.\n",
    "prob = cp.Problem(obj, constraints)\n",
    "prob.solve()\n",
    "\n",
    "# The optimal dual variable (Lagrange multiplier) for\n",
    "# a constraint is stored in constraint.dual_value.\n",
    "print(\"optimal (x + y == 1) dual variable\", constraints[0].dual_value)\n",
    "print(\"optimal (x - y >= 1) dual variable\", constraints[1].dual_value)\n",
    "print(\"x - y value:\", (x - y).value)\n"
   ]
  },
  {
   "cell_type": "code",
   "execution_count": 38,
   "metadata": {},
   "outputs": [],
   "source": [
    "d = np.array([0.3, 0.5, 8, 15, 9])\n",
    "x = cp.Variable(shape=d.shape, boolean=True)\n",
    "A = np.random.randint(2, size=(5,d.shape[0]))\n",
    "\n",
    "obj = cp.Minimize(d.T * x)\n",
    "\n",
    "constraints = [A*x == 1]\n",
    "\n",
    "prob = cp.Problem(obj, constraints)\n"
   ]
  },
  {
   "cell_type": "code",
   "execution_count": 39,
   "metadata": {},
   "outputs": [
    {
     "name": "stdout",
     "output_type": "stream",
     "text": [
      "Optimal value None\n",
      "Optimal var\n",
      "None\n"
     ]
    }
   ],
   "source": [
    "print( \"Optimal value\", prob.solve())\n",
    "print( \"Optimal var\")\n",
    "print( x.value) # A numpy matrix."
   ]
  },
  {
   "cell_type": "code",
   "execution_count": 40,
   "metadata": {},
   "outputs": [
    {
     "data": {
      "text/plain": [
       "Problem(Minimize(Expression(AFFINE, NONNEGATIVE, ())), [Equality(Expression(AFFINE, NONNEGATIVE, (5,)), Constant(CONSTANT, NONNEGATIVE, ()))])"
      ]
     },
     "execution_count": 40,
     "metadata": {},
     "output_type": "execute_result"
    }
   ],
   "source": [
    "prob"
   ]
  },
  {
   "cell_type": "code",
   "execution_count": 41,
   "metadata": {},
   "outputs": [],
   "source": [
    "x.value"
   ]
  },
  {
   "cell_type": "code",
   "execution_count": 42,
   "metadata": {},
   "outputs": [
    {
     "data": {
      "text/plain": [
       "Expression(AFFINE, NONNEGATIVE, (5,))"
      ]
     },
     "execution_count": 42,
     "metadata": {},
     "output_type": "execute_result"
    }
   ],
   "source": [
    "(A*x)"
   ]
  },
  {
   "cell_type": "code",
   "execution_count": 43,
   "metadata": {},
   "outputs": [],
   "source": [
    "best_alignement = Best_Alignement(continuum, combi_dis)"
   ]
  },
  {
   "cell_type": "code",
   "execution_count": 44,
   "metadata": {},
   "outputs": [],
   "source": [
    "A, obj, d, x = best_alignement.get_unitary_alignements_best()"
   ]
  },
  {
   "cell_type": "code",
   "execution_count": 45,
   "metadata": {},
   "outputs": [
    {
     "data": {
      "text/plain": [
       "(13, 28)"
      ]
     },
     "execution_count": 45,
     "metadata": {},
     "output_type": "execute_result"
    }
   ],
   "source": [
    "A.shape"
   ]
  },
  {
   "cell_type": "code",
   "execution_count": 46,
   "metadata": {},
   "outputs": [
    {
     "name": "stdout",
     "output_type": "stream",
     "text": [
      "Optimal value 1.390668977689775\n",
      "Optimal var\n",
      "[ 1.00000000e+00  4.36187858e-11  4.36187858e-11  1.27724627e-10\n",
      "  7.83674084e-14  9.11259870e-13 -2.68591855e-12 -6.33912563e-12\n",
      " -1.20025545e-11  1.00000000e+00  3.78384006e-11  6.32273787e-12\n",
      "  1.00942074e-10  1.41208689e-11  8.93432301e-12  2.61054694e-11\n",
      " -3.23622583e-12 -6.32119316e-12  1.00000000e+00  1.00000000e+00\n",
      "  1.01871904e-10  4.36193170e-11  1.00000000e+00 -2.01753996e-12\n",
      "  2.03843451e-12 -5.20880407e-12  1.57995739e-10  6.47573653e-11]\n"
     ]
    }
   ],
   "source": [
    "obj = cp.Minimize(d.T * x)\n",
    "\n",
    "constraints = [A*x == 1]\n",
    "\n",
    "prob = cp.Problem(obj, constraints)\n",
    "print( \"Optimal value\", prob.solve())\n",
    "print( \"Optimal var\")\n",
    "print( x.value) # A numpy matrix."
   ]
  },
  {
   "cell_type": "code",
   "execution_count": 47,
   "metadata": {},
   "outputs": [
    {
     "data": {
      "text/plain": [
       "(28,)"
      ]
     },
     "execution_count": 47,
     "metadata": {},
     "output_type": "execute_result"
    }
   ],
   "source": [
    "d.shape"
   ]
  },
  {
   "cell_type": "code",
   "execution_count": 48,
   "metadata": {},
   "outputs": [
    {
     "data": {
      "text/plain": [
       "(28,)"
      ]
     },
     "execution_count": 48,
     "metadata": {},
     "output_type": "execute_result"
    }
   ],
   "source": [
    "x.shape"
   ]
  },
  {
   "cell_type": "code",
   "execution_count": null,
   "metadata": {},
   "outputs": [],
   "source": []
  }
 ],
 "metadata": {
  "kernelspec": {
   "display_name": "Python 3",
   "language": "python",
   "name": "python3"
  },
  "language_info": {
   "codemirror_mode": {
    "name": "ipython",
    "version": 3
   },
   "file_extension": ".py",
   "mimetype": "text/x-python",
   "name": "python",
   "nbconvert_exporter": "python",
   "pygments_lexer": "ipython3",
   "version": "3.7.3"
  }
 },
 "nbformat": 4,
 "nbformat_minor": 2
}
