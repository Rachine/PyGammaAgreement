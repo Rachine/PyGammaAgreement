{
 "cells": [
  {
   "cell_type": "markdown",
   "metadata": {
    "collapsed": true,
    "pycharm": {
     "name": "#%% md\n"
    }
   },
   "source": [
    "# pygamma-agreement Example Notebook\n",
    "\n",
    "This notebook will show you some basic usage of the pygamma-agreement library.\n",
    "\n",
    "First, let's load a csv file into a `Continuum` object and inspect\n",
    "this object's properties. We'll use one of the short example files contained\n",
    "in the `tests/data/` directory."
   ]
  },
  {
   "cell_type": "code",
   "execution_count": 1,
   "metadata": {
    "pycharm": {
     "name": "#%%\n"
    }
   },
   "outputs": [
    {
     "data": {
      "image/png": "[encoded data removed]",
      "text/plain": [
       "<pygamma_agreement.continuum.Continuum at 0x7fc8612cc588>"
      ]
     },
     "execution_count": 1,
     "metadata": {},
     "output_type": "execute_result"
    }
   ],
   "source": [
    "from pygamma_agreement import Continuum\n",
    "\n",
    "continuum = Continuum.from_csv(\"../tests/data/AlexPaulSuzan.csv\")\n",
    "continuum"
   ]
  },
  {
   "cell_type": "markdown",
   "metadata": {
    "pycharm": {
     "name": "#%% md\n"
    }
   },
   "source": [
    "A continuum is made of _units_. A unit is a segment, optionally with some\n",
    "text annotation, that has been annotated by some human or automatic annotator.\n",
    "Let's have a look at these units:"
   ]
  },
  {
   "cell_type": "code",
   "execution_count": 5,
   "metadata": {
    "pycharm": {
     "name": "#%%\n"
    }
   },
   "outputs": [
    {
     "name": "stdout",
     "output_type": "stream",
     "text": [
      "Alex  :  Unit(segment=<Segment(2, 9)>, annotation='1')\n",
      "Alex  :  Unit(segment=<Segment(11, 17)>, annotation='2')\n",
      "Alex  :  Unit(segment=<Segment(24, 30)>, annotation='5')\n",
      "Alex  :  Unit(segment=<Segment(32, 36)>, annotation='6')\n",
      "Alex  :  Unit(segment=<Segment(36, 44)>, annotation='6')\n",
      "Alex  :  Unit(segment=<Segment(44, 60)>, annotation='7')\n",
      "Paul  :  Unit(segment=<Segment(2, 9)>, annotation='1')\n",
      "Paul  :  Unit(segment=<Segment(11, 17)>, annotation='3')\n",
      "Paul  :  Unit(segment=<Segment(19, 25)>, annotation='5')\n",
      "Paul  :  Unit(segment=<Segment(32, 44)>, annotation='6')\n",
      "Suzan  :  Unit(segment=<Segment(2, 9)>, annotation='1')\n",
      "Suzan  :  Unit(segment=<Segment(11, 17)>, annotation='4')\n",
      "Suzan  :  Unit(segment=<Segment(21, 27)>, annotation='5')\n",
      "Suzan  :  Unit(segment=<Segment(32, 36)>, annotation='6')\n",
      "Suzan  :  Unit(segment=<Segment(36, 40)>, annotation='6')\n",
      "Suzan  :  Unit(segment=<Segment(40, 44)>, annotation='6')\n"
     ]
    }
   ],
   "source": [
    "for annotator, unit in continuum:\n",
    "    print(annotator, \" : \", unit)"
   ]
  },
  {
   "cell_type": "markdown",
   "metadata": {
    "pycharm": {
     "name": "#%% md\n"
    }
   },
   "source": [
    "We can also list some basic properties of this continuum instance"
   ]
  },
  {
   "cell_type": "code",
   "execution_count": 6,
   "metadata": {
    "pycharm": {
     "name": "#%%\n"
    }
   },
   "outputs": [
    {
     "name": "stdout",
     "output_type": "stream",
     "text": [
      "All annotators: ['Alex', 'Paul', 'Suzan']\n",
      "All categories: {'6', '7', '5', '4', '1', '2', '3'}\n",
      "Unit count: 16\n",
      "Average number of units per annotator: 5.333333333333333\n",
      "Average units lengths: 6.8125\n"
     ]
    }
   ],
   "source": [
    "print(f\"All annotators: {continuum.annotators}\")\n",
    "print(f\"All categories: {continuum.categories}\")\n",
    "print(f\"Unit count: {continuum.num_units}\")\n",
    "print(f\"Average number of units per annotator: {continuum.avg_num_annotations_per_annotator}\")\n",
    "print(f\"Average units lengths: {continuum.avg_length_unit}\")"
   ]
  },
  {
   "cell_type": "markdown",
   "metadata": {
    "pycharm": {
     "name": "#%% md\n"
    }
   },
   "source": [
    "Enough playing around. Let's get down to business and actually do what you probably\n",
    "came here for: computing the Gamma Inter-annotator agreement.\n",
    "For that, we'll use a \"combined categorical dissimilarity\", which is, simply put,\n",
    "a dissimilarity that measures both the temporal and categorical differences between\n",
    "annotated units (for two different annotators from the continuum).\n",
    "\n",
    "We'll also ask for 30 random continuum to be sampled in the Gamma measure's\n",
    "chance estimation."
   ]
  },
  {
   "cell_type": "code",
   "execution_count": 8,
   "metadata": {
    "pycharm": {
     "name": "#%%\n"
    }
   },
   "outputs": [
    {
     "name": "stdout",
     "output_type": "stream",
     "text": [
      "The gamma agreement is 0.2627825235435274\n"
     ]
    }
   ],
   "source": [
    "from pygamma_agreement import CombinedCategoricalDissimilarity\n",
    "\n",
    "dissimilarity = CombinedCategoricalDissimilarity(continuum.categories)\n",
    "\n",
    "gamma_results = continuum.compute_gamma(dissimilarity,\n",
    "                                        n_samples=30)\n",
    "print(f\"The gamma agreement is {gamma_results.gamma}\")"
   ]
  },
  {
   "cell_type": "markdown",
   "metadata": {
    "pycharm": {
     "name": "#%% md\n"
    }
   },
   "source": [
    "We can also retrieve the best alignment for that continuum. This is the\n",
    "list of per-annotator tuples of units that has the lowest _disorder_\n",
    "(intuitively, when units from different annotators are grouped in tuples\n",
    "in the best possible way):"
   ]
  },
  {
   "cell_type": "code",
   "execution_count": 9,
   "metadata": {
    "pycharm": {
     "name": "#%%\n"
    }
   },
   "outputs": [
    {
     "data": {
      "image/png": "[encoded data removed]",
      "text/plain": [
       "<pygamma.alignment.Alignment at 0x7f3d3593b2b0>"
      ]
     },
     "execution_count": 9,
     "metadata": {},
     "output_type": "execute_result"
    }
   ],
   "source": [
    "best_alignment = continuum.get_best_alignment(dissimilarity)\n",
    "best_alignment"
   ]
  },
  {
   "cell_type": "markdown",
   "metadata": {
    "pycharm": {
     "name": "#%% md\n"
    }
   },
   "source": [
    "Up until now, we used a very simple and very short example file. All the\n",
    "gamma computations should have been pretty fast. However, computing the gamma\n",
    "measure can be quite costly for bigger files. Let's re-run the gamma measure\n",
    "on some bigger files, as to give you a better sense of the time it can take\n",
    "for larger files.\n",
    "\n",
    "We'll also be using the `precision_level` parameter. The closer it is to 0,\n",
    "the more precise our measure of the gamma will be (albeit more costly)."
   ]
  },
  {
   "cell_type": "code",
   "execution_count": 12,
   "metadata": {
    "pycharm": {
     "name": "#%%\n"
    }
   },
   "outputs": [
    {
     "name": "stdout",
     "output_type": "stream",
     "text": [
      "Took 18.347300052642822s for ../tests/data/2by1000.csv\n",
      "Had to sample 30 continuua\n",
      "Gamma is 0.210619634440109 (with estimation range (0.19450983106133568, 0.22609768082363624))\n",
      "Discarded invalid segment : Tried adding segment of duration 0.0\n",
      "Discarded invalid segment : Tried adding segment of duration 0.0\n",
      "Took 428.55588126182556s for ../tests/data/2by5000.csv\n",
      "Had to sample 30 continuua\n",
      "Gamma is 0.15930185938746333 (with estimation range (0.14214475447700348, 0.1757861366543758))\n",
      "Took 66.95498609542847s for ../tests/data/3by100.csv\n",
      "Had to sample 30 continuua\n",
      "Gamma is 0.6879039440993873 (with estimation range (0.6815346368361094, 0.6940234746072423))\n"
     ]
    }
   ],
   "source": [
    "from time import time\n",
    "\n",
    "files = [\n",
    "    \"../tests/data/2by1000.csv\",\n",
    "    \"../tests/data/2by5000.csv\",\n",
    "    \"../tests/data/3by100.csv\",\n",
    "]\n",
    "\n",
    "for file in files:\n",
    "    start_time = time()\n",
    "    continuum = Continuum.from_csv(file)\n",
    "    dissimilarity = CombinedCategoricalDissimilarity(list(continuum.categories))\n",
    "    gamma_results = continuum.compute_gamma(dissimilarity, precision_level=0.02)\n",
    "    end_time = time()\n",
    "    print(f\"Took {end_time - start_time}s for {file}\")\n",
    "    print(f\"Had to sample {gamma_results.n_samples} continuua\")\n",
    "    print(f\"Gamma is {gamma_results.gamma} (with estimation range {gamma_results.approx_gamma_range})\")"
   ]
  }
 ],
 "metadata": {
  "kernelspec": {
   "display_name": "Python 3",
   "language": "python",
   "name": "python3"
  },
  "language_info": {
   "codemirror_mode": {
    "name": "ipython",
    "version": 3
   },
   "file_extension": ".py",
   "mimetype": "text/x-python",
   "name": "python",
   "nbconvert_exporter": "python",
   "pygments_lexer": "ipython3",
   "version": "3.6.9"
  }
 },
 "nbformat": 4,
 "nbformat_minor": 1
}
