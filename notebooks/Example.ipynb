{
 "cells": [
  {
   "cell_type": "markdown",
   "metadata": {
    "collapsed": true,
    "pycharm": {
     "name": "#%% md\n"
    }
   },
   "source": [
    "# pygamma-agreement Example Notebook\n",
    "\n",
    "This notebook will show you some basic usage of the pygamma-agreement library.\n",
    "\n",
    "First, let's load a csv file into a `Continuum` object and inspect\n",
    "this object's properties. We'll use one of the short example files contained\n",
    "in the `tests/data/` directory."
   ]
  },
  {
   "cell_type": "code",
   "execution_count": null,
   "outputs": [],
   "source": [
    "from pygamma_agreement import Continuum\n",
    "\n",
    "continuum = Continuum.from_csv(\"tests/data/AlexPaulSuzan.csv\")\n",
    "continuum"
   ],
   "metadata": {
    "collapsed": false,
    "pycharm": {
     "name": "#%%\n"
    }
   }
  },
  {
   "cell_type": "markdown",
   "source": [
    "A continuum is made of _units_. A unit is a segment, optionally with some\n",
    "text annotation, that has been annotated by some human or automatic annotator.\n",
    "Let's have a look at these units:"
   ],
   "metadata": {
    "collapsed": false,
    "pycharm": {
     "name": "#%% md\n"
    }
   }
  },
  {
   "cell_type": "code",
   "execution_count": null,
   "outputs": [],
   "source": [
    "for annotator, annotations in continuum:\n",
    "    for segment, unit in annotations.items():\n",
    "        print(annotator, unit)"
   ],
   "metadata": {
    "collapsed": false,
    "pycharm": {
     "name": "#%%\n"
    }
   }
  },
  {
   "cell_type": "markdown",
   "source": [
    "We can also list some basic properties of this continuum instance"
   ],
   "metadata": {
    "collapsed": false,
    "pycharm": {
     "name": "#%% md\n"
    }
   }
  },
  {
   "cell_type": "code",
   "execution_count": null,
   "outputs": [],
   "source": [
    "print(f\"All annotators: {continuum.annotators}\")\n",
    "print(f\"All categories: {continuum.categories}\")\n",
    "print(f\"Unit count: {continuum.num_units}\")\n",
    "print(f\"Average number of units per annotator: {continuum.avg_num_annotations_per_annotator}\")\n",
    "print(f\"Average units lengths: {continuum.avg_length_unit}\")"
   ],
   "metadata": {
    "collapsed": false,
    "pycharm": {
     "name": "#%%\n"
    }
   }
  },
  {
   "cell_type": "markdown",
   "source": [
    "Enough playing around. Let's get down to business and actually do what you probably\n",
    "came here for: computing the Gamma Inter-annotator agreement.\n",
    "For that, we'll use a \"combined categorical dissimilarity\", which is, simply put,\n",
    "a dissimilarity that measures both the temporal and categorical differences between\n",
    "annotated units (for two different annotators from the continuum).\n",
    "\n",
    "We'll also ask for 30 random continuum to be sampled in the Gamma measure's\n",
    "chance estimation."
   ],
   "metadata": {
    "collapsed": false,
    "pycharm": {
     "name": "#%% md\n"
    }
   }
  },
  {
   "cell_type": "code",
   "execution_count": null,
   "outputs": [],
   "source": [
    "from pygamma_agreement import CombinedCategoricalDissimilarity\n",
    "\n",
    "dissimilarity = CombinedCategoricalDissimilarity(continuum.categories)\n",
    "\n",
    "gamma_results = continuum.compute_gamma(dissimilarity,\n",
    "                                        n_samples=30)\n",
    "print(f\"The gamma agreement is {gamma_results.gamma}\")"
   ],
   "metadata": {
    "collapsed": false,
    "pycharm": {
     "name": "#%%\n"
    }
   }
  },
  {
   "cell_type": "markdown",
   "source": [
    "We can also retrieve the best alignment for that continuum. This is the\n",
    "list of per-annotator tuples of units that has the lowest _disorder_\n",
    "(intuitively, when units from different annotators are paired in tuples\n",
    "in the best possible way):"
   ],
   "metadata": {
    "collapsed": false,
    "pycharm": {
     "name": "#%% md\n"
    }
   }
  },
  {
   "cell_type": "code",
   "execution_count": null,
   "outputs": [],
   "source": [
    "best_alignment = continuum.get_best_alignment(dissimilarity)\n",
    "best_alignment"
   ],
   "metadata": {
    "collapsed": false,
    "pycharm": {
     "name": "#%%\n"
    }
   }
  },
  {
   "cell_type": "markdown",
   "source": [
    "Up until now, we used a very simple and very short example file. All the\n",
    "gamma computations should have been pretty fast. However, computing the gamma\n",
    "measure can be quite costly for bigger files. Let's re-run the gamma measure\n",
    "on some bigger files, as to give you a better \"feeling\" of how long it be.\n",
    "\n",
    "We'll also be using the `precision_level` parameter. The closer it is to 0,\n",
    "the more precise our measure of the gamma will be (albeit more costly)."
   ],
   "metadata": {
    "collapsed": false,
    "pycharm": {
     "name": "#%% md\n"
    }
   }
  },
  {
   "cell_type": "code",
   "execution_count": null,
   "outputs": [],
   "source": [
    "from time import time\n",
    "\n",
    "files = [\n",
    "    \"tests/data/2by1000.csv\",\n",
    "    \"tests/data/2by5000.csv\",\n",
    "    \"tests/data/3by100.csv\",\n",
    "]\n",
    "\n",
    "for file in files:\n",
    "    start_time = time()\n",
    "    continuum = Continuum.from_csv(file)\n",
    "    gamma_results = continuum.compute_gamma(dissimilarity, precision_level=0.02)\n",
    "    end_time = time()\n",
    "    print(f\"Took {end_time - start_time}s for {file}\")\n",
    "    print(f\"Had to sample {gamma_results.n_samples} continuua\")\n",
    "    print(f\"Gamma is {gamma_results.gamma} (with estimation range {gamma_results.approx_gamma_range})\")"
   ],
   "metadata": {
    "collapsed": false,
    "pycharm": {
     "name": "#%%\n"
    }
   }
  }
 ],
 "metadata": {
  "kernelspec": {
   "display_name": "Python 3",
   "language": "python",
   "name": "python3"
  },
  "language_info": {
   "codemirror_mode": {
    "name": "ipython",
    "version": 2
   },
   "file_extension": ".py",
   "mimetype": "text/x-python",
   "name": "python",
   "nbconvert_exporter": "python",
   "pygments_lexer": "ipython2",
   "version": "2.7.6"
  }
 },
 "nbformat": 4,
 "nbformat_minor": 0
}